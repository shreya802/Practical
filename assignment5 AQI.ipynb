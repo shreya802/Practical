{
 "cells": [
  {
   "cell_type": "code",
   "execution_count": null,
   "metadata": {},
   "outputs": [
    {
     "ename": "",
     "evalue": "",
     "output_type": "error",
     "traceback": [
      "\u001b[1;31mRunning cells with 'c:\\Users\\shrey\\AppData\\Local\\Programs\\Python\\Python311\\python.exe' requires the ipykernel package.\n",
      "\u001b[1;31mRun the following command to install 'ipykernel' into the Python environment. \n",
      "\u001b[1;31mCommand: 'c:/Users/shrey/AppData/Local/Programs/Python/Python311/python.exe -m pip install ipykernel -U --user --force-reinstall'"
     ]
    }
   ],
   "source": [
    "import numpy as np\n",
    "import pandas as pd\n",
    "import matplotlib.pyplot as plt\n",
    "import seaborn as sns\n",
    "from sklearn.impute import SimpleImputer\n",
    "\n",
    "%matplotlib inline"
   ]
  },
  {
   "cell_type": "code",
   "execution_count": null,
   "metadata": {},
   "outputs": [
    {
     "data": {
      "text/plain": [
       "MultiIndex([(           '10/03/2004;18.00.00;2', ...),\n",
       "            ('10/03/2004;19.00.00;2;1292;112;9', ...),\n",
       "            (           '10/03/2004;20.00.00;2', ...),\n",
       "            (           '10/03/2004;21.00.00;2', ...),\n",
       "            (           '10/03/2004;22.00.00;1', ...),\n",
       "            (           '10/03/2004;23.00.00;1', ...),\n",
       "            (           '11/03/2004;00.00.00;1', ...),\n",
       "            ( '11/03/2004;01.00.00;1;1136;31;3', ...),\n",
       "            (           '11/03/2004;02.00.00;0', ...),\n",
       "            (           '11/03/2004;03.00.00;0', ...),\n",
       "            ...\n",
       "            (                ';;;;;;;;;;;;;;;;', ...),\n",
       "            (                ';;;;;;;;;;;;;;;;', ...),\n",
       "            (                ';;;;;;;;;;;;;;;;', ...),\n",
       "            (                ';;;;;;;;;;;;;;;;', ...),\n",
       "            (                ';;;;;;;;;;;;;;;;', ...),\n",
       "            (                ';;;;;;;;;;;;;;;;', ...),\n",
       "            (                ';;;;;;;;;;;;;;;;', ...),\n",
       "            (                ';;;;;;;;;;;;;;;;', ...),\n",
       "            (                ';;;;;;;;;;;;;;;;', ...),\n",
       "            (                ';;;;;;;;;;;;;;;;', ...)],\n",
       "           length=9471)"
      ]
     },
     "execution_count": 51,
     "metadata": {},
     "output_type": "execute_result"
    }
   ],
   "source": [
    "df = pd.read_csv(\"AirQuality.csv\", encoding='iso-8859-1')\n",
    "df.index"
   ]
  },
  {
   "cell_type": "code",
   "execution_count": null,
   "metadata": {},
   "outputs": [
    {
     "name": "stdout",
     "output_type": "stream",
     "text": [
      "                                                                                                            Date;Time;CO(GT);PT08.S1(CO);NMHC(GT);C6H6(GT);PT08.S2(NMHC);NOx(GT);PT08.S3(NOx);NO2(GT);PT08.S4(NO2);PT08.S5(O3);T;RH;AH;;\n",
      "10/03/2004;18.00.00;2            6;1360;150;11                 9;1046;166;1056;113;1692;1268;13 6;48 9;0                                                7578;;                                                                          \n",
      "10/03/2004;19.00.00;2;1292;112;9 4;955;103;1174;92;1559;972;13 3;47                             7;0  7255;;                                                NaN                                                                          \n",
      "10/03/2004;20.00.00;2            2;1402;88;9                   0;939;131;1140;114;1555;1074;11  9;54 0;0                                                7502;;                                                                          \n",
      "10/03/2004;21.00.00;2            2;1376;80;9                   2;948;172;1092;122;1584;1203;11  0;60 0;0                                                7867;;                                                                          \n",
      "10/03/2004;22.00.00;1            6;1272;51;6                   5;836;131;1205;116;1490;1110;11  2;59 6;0                                                7888;;                                                                          \n",
      "<class 'pandas.core.frame.DataFrame'>\n",
      "MultiIndex: 9471 entries, ('10/03/2004;18.00.00;2', '6;1360;150;11', '9;1046;166;1056;113;1692;1268;13', '6;48', '9;0') to (';;;;;;;;;;;;;;;;', nan, nan, nan, nan)\n",
      "Data columns (total 1 columns):\n",
      " #   Column                                                                                                                        Non-Null Count  Dtype \n",
      "---  ------                                                                                                                        --------------  ----- \n",
      " 0   Date;Time;CO(GT);PT08.S1(CO);NMHC(GT);C6H6(GT);PT08.S2(NMHC);NOx(GT);PT08.S3(NOx);NO2(GT);PT08.S4(NO2);PT08.S5(O3);T;RH;AH;;  6915 non-null   object\n",
      "dtypes: object(1)\n",
      "memory usage: 1.2+ MB\n",
      "None\n"
     ]
    },
    {
     "ename": "KeyError",
     "evalue": "'date'",
     "output_type": "error",
     "traceback": [
      "\u001b[1;31m---------------------------------------------------------------------------\u001b[0m",
      "\u001b[1;31mKeyError\u001b[0m                                  Traceback (most recent call last)",
      "File \u001b[1;32mc:\\Python311\\Lib\\site-packages\\pandas\\core\\indexes\\base.py:3652\u001b[0m, in \u001b[0;36mIndex.get_loc\u001b[1;34m(self, key)\u001b[0m\n\u001b[0;32m   3651\u001b[0m \u001b[39mtry\u001b[39;00m:\n\u001b[1;32m-> 3652\u001b[0m     \u001b[39mreturn\u001b[39;00m \u001b[39mself\u001b[39;49m\u001b[39m.\u001b[39;49m_engine\u001b[39m.\u001b[39;49mget_loc(casted_key)\n\u001b[0;32m   3653\u001b[0m \u001b[39mexcept\u001b[39;00m \u001b[39mKeyError\u001b[39;00m \u001b[39mas\u001b[39;00m err:\n",
      "File \u001b[1;32mc:\\Python311\\Lib\\site-packages\\pandas\\_libs\\index.pyx:147\u001b[0m, in \u001b[0;36mpandas._libs.index.IndexEngine.get_loc\u001b[1;34m()\u001b[0m\n",
      "File \u001b[1;32mc:\\Python311\\Lib\\site-packages\\pandas\\_libs\\index.pyx:176\u001b[0m, in \u001b[0;36mpandas._libs.index.IndexEngine.get_loc\u001b[1;34m()\u001b[0m\n",
      "File \u001b[1;32mpandas\\_libs\\hashtable_class_helper.pxi:7080\u001b[0m, in \u001b[0;36mpandas._libs.hashtable.PyObjectHashTable.get_item\u001b[1;34m()\u001b[0m\n",
      "File \u001b[1;32mpandas\\_libs\\hashtable_class_helper.pxi:7088\u001b[0m, in \u001b[0;36mpandas._libs.hashtable.PyObjectHashTable.get_item\u001b[1;34m()\u001b[0m\n",
      "\u001b[1;31mKeyError\u001b[0m: 'date'",
      "\nThe above exception was the direct cause of the following exception:\n",
      "\u001b[1;31mKeyError\u001b[0m                                  Traceback (most recent call last)",
      "\u001b[1;32mc:\\Users\\Vaishnavi\\OneDrive\\Documents\\AA engg\\AA Practicals 7th Sem\\collegeWork\\CL1\\DMV practical\\assignment 5\\assignment5.ipynb Cell 3\u001b[0m line \u001b[0;36m1\n\u001b[0;32m      <a href='vscode-notebook-cell:/c%3A/Users/Vaishnavi/OneDrive/Documents/AA%20engg/AA%20Practicals%207th%20Sem/collegeWork/CL1/DMV%20practical/assignment%205/assignment5.ipynb#X24sZmlsZQ%3D%3D?line=4'>5</a>\u001b[0m \u001b[39m# Step 3: Identify relevant variables\u001b[39;00m\n\u001b[0;32m      <a href='vscode-notebook-cell:/c%3A/Users/Vaishnavi/OneDrive/Documents/AA%20engg/AA%20Practicals%207th%20Sem/collegeWork/CL1/DMV%20practical/assignment%205/assignment5.ipynb#X24sZmlsZQ%3D%3D?line=5'>6</a>\u001b[0m \u001b[39m# In this example, we assume that the relevant columns are 'date', 'PM2.5', 'PM10', 'CO', and 'AQI'.\u001b[39;00m\n\u001b[0;32m      <a href='vscode-notebook-cell:/c%3A/Users/Vaishnavi/OneDrive/Documents/AA%20engg/AA%20Practicals%207th%20Sem/collegeWork/CL1/DMV%20practical/assignment%205/assignment5.ipynb#X24sZmlsZQ%3D%3D?line=6'>7</a>\u001b[0m \n\u001b[0;32m      <a href='vscode-notebook-cell:/c%3A/Users/Vaishnavi/OneDrive/Documents/AA%20engg/AA%20Practicals%207th%20Sem/collegeWork/CL1/DMV%20practical/assignment%205/assignment5.ipynb#X24sZmlsZQ%3D%3D?line=7'>8</a>\u001b[0m \u001b[39m# Step 4: Create a line plot for overall AQI trend\u001b[39;00m\n\u001b[0;32m      <a href='vscode-notebook-cell:/c%3A/Users/Vaishnavi/OneDrive/Documents/AA%20engg/AA%20Practicals%207th%20Sem/collegeWork/CL1/DMV%20practical/assignment%205/assignment5.ipynb#X24sZmlsZQ%3D%3D?line=8'>9</a>\u001b[0m plt\u001b[39m.\u001b[39mfigure(figsize\u001b[39m=\u001b[39m(\u001b[39m12\u001b[39m, \u001b[39m6\u001b[39m))\n\u001b[1;32m---> <a href='vscode-notebook-cell:/c%3A/Users/Vaishnavi/OneDrive/Documents/AA%20engg/AA%20Practicals%207th%20Sem/collegeWork/CL1/DMV%20practical/assignment%205/assignment5.ipynb#X24sZmlsZQ%3D%3D?line=9'>10</a>\u001b[0m plt\u001b[39m.\u001b[39mplot(df[\u001b[39m'\u001b[39;49m\u001b[39mdate\u001b[39;49m\u001b[39m'\u001b[39;49m], df[\u001b[39m'\u001b[39m\u001b[39mAQI\u001b[39m\u001b[39m'\u001b[39m], label\u001b[39m=\u001b[39m\u001b[39m'\u001b[39m\u001b[39mAQI\u001b[39m\u001b[39m'\u001b[39m, color\u001b[39m=\u001b[39m\u001b[39m'\u001b[39m\u001b[39mblue\u001b[39m\u001b[39m'\u001b[39m)\n\u001b[0;32m     <a href='vscode-notebook-cell:/c%3A/Users/Vaishnavi/OneDrive/Documents/AA%20engg/AA%20Practicals%207th%20Sem/collegeWork/CL1/DMV%20practical/assignment%205/assignment5.ipynb#X24sZmlsZQ%3D%3D?line=10'>11</a>\u001b[0m plt\u001b[39m.\u001b[39mxlabel(\u001b[39m'\u001b[39m\u001b[39mDate\u001b[39m\u001b[39m'\u001b[39m)\n\u001b[0;32m     <a href='vscode-notebook-cell:/c%3A/Users/Vaishnavi/OneDrive/Documents/AA%20engg/AA%20Practicals%207th%20Sem/collegeWork/CL1/DMV%20practical/assignment%205/assignment5.ipynb#X24sZmlsZQ%3D%3D?line=11'>12</a>\u001b[0m plt\u001b[39m.\u001b[39mylabel(\u001b[39m'\u001b[39m\u001b[39mAQI\u001b[39m\u001b[39m'\u001b[39m)\n",
      "File \u001b[1;32mc:\\Python311\\Lib\\site-packages\\pandas\\core\\frame.py:3761\u001b[0m, in \u001b[0;36mDataFrame.__getitem__\u001b[1;34m(self, key)\u001b[0m\n\u001b[0;32m   3759\u001b[0m \u001b[39mif\u001b[39;00m \u001b[39mself\u001b[39m\u001b[39m.\u001b[39mcolumns\u001b[39m.\u001b[39mnlevels \u001b[39m>\u001b[39m \u001b[39m1\u001b[39m:\n\u001b[0;32m   3760\u001b[0m     \u001b[39mreturn\u001b[39;00m \u001b[39mself\u001b[39m\u001b[39m.\u001b[39m_getitem_multilevel(key)\n\u001b[1;32m-> 3761\u001b[0m indexer \u001b[39m=\u001b[39m \u001b[39mself\u001b[39;49m\u001b[39m.\u001b[39;49mcolumns\u001b[39m.\u001b[39;49mget_loc(key)\n\u001b[0;32m   3762\u001b[0m \u001b[39mif\u001b[39;00m is_integer(indexer):\n\u001b[0;32m   3763\u001b[0m     indexer \u001b[39m=\u001b[39m [indexer]\n",
      "File \u001b[1;32mc:\\Python311\\Lib\\site-packages\\pandas\\core\\indexes\\base.py:3654\u001b[0m, in \u001b[0;36mIndex.get_loc\u001b[1;34m(self, key)\u001b[0m\n\u001b[0;32m   3652\u001b[0m     \u001b[39mreturn\u001b[39;00m \u001b[39mself\u001b[39m\u001b[39m.\u001b[39m_engine\u001b[39m.\u001b[39mget_loc(casted_key)\n\u001b[0;32m   3653\u001b[0m \u001b[39mexcept\u001b[39;00m \u001b[39mKeyError\u001b[39;00m \u001b[39mas\u001b[39;00m err:\n\u001b[1;32m-> 3654\u001b[0m     \u001b[39mraise\u001b[39;00m \u001b[39mKeyError\u001b[39;00m(key) \u001b[39mfrom\u001b[39;00m \u001b[39merr\u001b[39;00m\n\u001b[0;32m   3655\u001b[0m \u001b[39mexcept\u001b[39;00m \u001b[39mTypeError\u001b[39;00m:\n\u001b[0;32m   3656\u001b[0m     \u001b[39m# If we have a listlike key, _check_indexing_error will raise\u001b[39;00m\n\u001b[0;32m   3657\u001b[0m     \u001b[39m#  InvalidIndexError. Otherwise we fall through and re-raise\u001b[39;00m\n\u001b[0;32m   3658\u001b[0m     \u001b[39m#  the TypeError.\u001b[39;00m\n\u001b[0;32m   3659\u001b[0m     \u001b[39mself\u001b[39m\u001b[39m.\u001b[39m_check_indexing_error(key)\n",
      "\u001b[1;31mKeyError\u001b[0m: 'date'"
     ]
    },
    {
     "data": {
      "text/plain": [
       "<Figure size 1200x600 with 0 Axes>"
      ]
     },
     "metadata": {},
     "output_type": "display_data"
    }
   ],
   "source": [
    "# Step 2: Explore the dataset\n",
    "print(df.head())  # View the first few rows of the dataset\n",
    "print(df.info())  # Get information about the dataset\n",
    "\n",
    "# Step 3: Identify relevant variables\n",
    "# In this example, we assume that the relevant columns are 'date', 'PM2.5', 'PM10', 'CO', and 'AQI'.\n",
    "\n",
    "# Step 4: Create a line plot for overall AQI trend\n",
    "plt.figure(figsize=(12, 6))\n",
    "plt.plot(df['date'], df['AQI'], label='AQI', color='blue')\n",
    "plt.xlabel('Date')\n",
    "plt.ylabel('AQI')\n",
    "plt.title('Overall AQI Trend Over Time')\n",
    "plt.legend()\n",
    "plt.xticks(rotation=45)\n",
    "plt.grid(True)\n",
    "plt.show()\n",
    "\n",
    "# Step 5: Plot individual pollutant levels\n",
    "plt.figure(figsize=(12, 6))\n",
    "plt.plot(df['date'], df['PM2.5'], label='PM2.5', color='red')\n",
    "plt.plot(df['date'], df['PM10'], label='PM10', color='green')\n",
    "plt.plot(df['date'], df['CO'], label='CO', color='blue')\n",
    "plt.xlabel('Date')\n",
    "plt.ylabel('Level')\n",
    "plt.title('Pollutant Levels Over Time')\n",
    "plt.legend()\n",
    "plt.xticks(rotation=45)\n",
    "plt.grid(True)\n",
    "plt.show()\n",
    "\n",
    "# Step 6: Use bar plots to compare AQI values across different dates\n",
    "plt.figure(figsize=(12, 6))\n",
    "plt.bar(df['date'], df['AQI'], color='blue', alpha=0.7)\n",
    "plt.xlabel('Date')\n",
    "plt.ylabel('AQI')\n",
    "plt.title('AQI Values Across Dates')\n",
    "plt.xticks(rotation=45)\n",
    "plt.grid(True)\n",
    "plt.show()\n",
    "\n",
    "# Step 7: Create box plots for AQI distribution\n",
    "plt.figure(figsize=(10, 6))\n",
    "plt.boxplot([df['PM2.5'], df['PM10'], df['CO']], labels=['PM2.5', 'PM10', 'CO'])\n",
    "plt.xlabel('Pollutants')\n",
    "plt.ylabel('Value')\n",
    "plt.title('Distribution of AQI for Different Pollutants')\n",
    "plt.grid(True)\n",
    "plt.show()\n",
    "\n",
    "# Step 8: Use a scatter plot to explore the relationship between AQI and pollutant levels\n",
    "plt.figure(figsize=(8, 6))\n",
    "plt.scatter(df['PM2.5'], df['AQI'], label='PM2.5', color='red', s=20, alpha=0.5)\n",
    "plt.scatter(df['PM10'], df['AQI'], label='PM10', color='blue', s=20, alpha=0.5)\n",
    "plt.scatter(df['CO'], df['AQI'], label='CO', color='green', s=20, alpha=0.5)\n",
    "plt.xlabel('Pollutant Level')\n",
    "plt.ylabel('AQI')\n",
    "plt.title('AQI vs. Pollutant Levels')\n",
    "plt.legend()\n",
    "plt.grid(True)\n",
    "plt.show()"
   ]
  },
  {
   "cell_type": "code",
   "execution_count": null,
   "metadata": {},
   "outputs": [],
   "source": []
  }
 ],
 "metadata": {
  "kernelspec": {
   "display_name": "Python 3",
   "language": "python",
   "name": "python3"
  },
  "language_info": {
   "name": "python",
   "version": "3.11.3"
  }
 },
 "nbformat": 4,
 "nbformat_minor": 2
}
